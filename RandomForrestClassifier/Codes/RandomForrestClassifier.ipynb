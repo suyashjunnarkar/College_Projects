{
 "cells": [
  {
   "cell_type": "code",
   "execution_count": 1,
   "metadata": {},
   "outputs": [],
   "source": [
    "import numpy as np\n",
    "import os\n",
    "import pandas as pd\n",
    "from sklearn.ensemble import RandomForestClassifier\n",
    "from sklearn.metrics import mean_squared_error, r2_score,accuracy_score\n",
    "from sklearn.tree import export_graphviz\n",
    "import graphviz\n",
    "import warnings"
   ]
  },
  {
   "cell_type": "code",
   "execution_count": 2,
   "metadata": {},
   "outputs": [],
   "source": [
    "warnings.filterwarnings(\"ignore\")"
   ]
  },
  {
   "cell_type": "code",
   "execution_count": 3,
   "metadata": {},
   "outputs": [],
   "source": [
    "data = pd.read_csv('../data/train.csv',index_col=0)"
   ]
  },
  {
   "cell_type": "code",
   "execution_count": 4,
   "metadata": {},
   "outputs": [],
   "source": [
    "y = data.output\n",
    "X = data.drop('output', axis=1)"
   ]
  },
  {
   "cell_type": "code",
   "execution_count": 5,
   "metadata": {},
   "outputs": [],
   "source": [
    "# Evaluate model pipeline on test data\n",
    "model = RandomForestClassifier(n_estimators = 1000, oob_score = True, n_jobs = -1,random_state =50,max_features = \"auto\", min_samples_leaf = 2, max_depth=6)\n",
    "finalTree = model.fit(X,y)"
   ]
  },
  {
   "cell_type": "code",
   "execution_count": 6,
   "metadata": {},
   "outputs": [],
   "source": [
    "testData = pd.read_csv('../data/test.csv',index_col=0)"
   ]
  },
  {
   "cell_type": "code",
   "execution_count": 7,
   "metadata": {},
   "outputs": [
    {
     "name": "stdout",
     "output_type": "stream",
     "text": [
      "                model_rating  bought_at  months_used  issues_rating  \\\n",
      "company_rating                                                        \n",
      "2                        5.0      11892            3            5.0   \n",
      "3                        2.0      19421            6            3.0   \n",
      "2                        3.0       6362            0            3.0   \n",
      "2                        3.0       7157            8            2.5   \n",
      "4                        3.0      18571            4            2.0   \n",
      "\n",
      "                resale_value  \n",
      "company_rating                \n",
      "2                       5586  \n",
      "3                       6138  \n",
      "2                       4205  \n",
      "2                       3348  \n",
      "4                       8867  \n"
     ]
    }
   ],
   "source": [
    "y_test = data.output\n",
    "X_test = data.drop('output', axis=1)\n",
    "print (X_test.head())"
   ]
  },
  {
   "cell_type": "code",
   "execution_count": 8,
   "metadata": {},
   "outputs": [
    {
     "name": "stdout",
     "output_type": "stream",
     "text": [
      "MSE =  0.06\n",
      "Accuracy =  0.94\n"
     ]
    }
   ],
   "source": [
    "pred = model.predict(X_test)\n",
    "print (\"MSE = \",mean_squared_error(y_test, pred))\n",
    "print (\"Accuracy = \",accuracy_score(y_test, pred))"
   ]
  },
  {
   "cell_type": "code",
   "execution_count": 9,
   "metadata": {},
   "outputs": [
    {
     "name": "stdout",
     "output_type": "stream",
     "text": [
      "1000 trees are iterating!!! \n",
      "Generating png file ...\n",
      "Open Codes folder to see the tree.png file\n"
     ]
    }
   ],
   "source": [
    "print(\"1000 trees are iterating!!! \")\n",
    " \n",
    "for tree_in_forest in finalTree.estimators_:\n",
    "    export_graphviz(tree_in_forest,feature_names=X.columns,filled=True,rounded=True)\n",
    "print (\"Generating png file ...\")\n",
    "os.system('dot -Tpng tree.dot -o tree.png')\n",
    "with open(\"tree.dot\") as f:\n",
    "    dot_graph=f.read()\n",
    "graphviz.Source(dot_graph)\n",
    "\n",
    "print(\"Open Codes folder to see the tree.png file\")"
   ]
  }
 ],
 "metadata": {
  "kernelspec": {
   "display_name": "Python 3",
   "language": "python",
   "name": "python3"
  },
  "language_info": {
   "codemirror_mode": {
    "name": "ipython",
    "version": 3
   },
   "file_extension": ".py",
   "mimetype": "text/x-python",
   "name": "python",
   "nbconvert_exporter": "python",
   "pygments_lexer": "ipython3",
   "version": "3.6.4"
  }
 },
 "nbformat": 4,
 "nbformat_minor": 2
}
