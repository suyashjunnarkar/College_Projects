{
 "cells": [
  {
   "cell_type": "code",
   "execution_count": 1,
   "metadata": {},
   "outputs": [],
   "source": [
    "import numpy as np\n",
    "import pandas as pd\n",
    "from sklearn.ensemble import RandomForestClassifier\n",
    "from sklearn.metrics import mean_squared_error, r2_score,accuracy_score\n",
    "from treeinterpreter import treeinterpreter as ti\n",
    "import graphviz"
   ]
  },
  {
   "cell_type": "code",
   "execution_count": 2,
   "metadata": {},
   "outputs": [],
   "source": [
    "# Load mobile data data.\n",
    "data = pd.read_csv('../data/train.csv',index_col=0)\n",
    "# data = data.drop(['bought_at','resale_value'],axis=1)\n",
    "# print (data)"
   ]
  },
  {
   "cell_type": "code",
   "execution_count": 3,
   "metadata": {},
   "outputs": [],
   "source": [
    "y = data.output\n",
    "X = data.drop('output', axis=1)"
   ]
  },
  {
   "cell_type": "code",
   "execution_count": 4,
   "metadata": {},
   "outputs": [
    {
     "data": {
      "text/plain": [
       "RandomForestClassifier(bootstrap=True, class_weight=None, criterion='gini',\n",
       "            max_depth=None, max_features='auto', max_leaf_nodes=None,\n",
       "            min_impurity_decrease=0.0, min_impurity_split=None,\n",
       "            min_samples_leaf=2, min_samples_split=2,\n",
       "            min_weight_fraction_leaf=0.0, n_estimators=1000, n_jobs=-1,\n",
       "            oob_score=True, random_state=50, verbose=0, warm_start=False)"
      ]
     },
     "execution_count": 4,
     "metadata": {},
     "output_type": "execute_result"
    }
   ],
   "source": [
    "# Evaluate model pipeline on test data\n",
    "model = RandomForestClassifier(n_estimators = 1000, oob_score = True, n_jobs = -1,random_state =50,max_features = \"auto\", min_samples_leaf = 2)\n",
    "model.fit(X,y)"
   ]
  },
  {
   "cell_type": "code",
   "execution_count": 5,
   "metadata": {},
   "outputs": [
    {
     "name": "stdout",
     "output_type": "stream",
     "text": [
      "                model_rating  bought_at  months_used  issues_rating  \\\n",
      "company_rating                                                        \n",
      "3                        4.0      12296           23            0.0   \n",
      "4                        4.0      16373           11            2.0   \n",
      "2                        2.0       6385           20            0.0   \n",
      "3                        4.0       8907           11            4.0   \n",
      "3                        4.0      15817           21            3.0   \n",
      "\n",
      "                resale_value  output  \n",
      "company_rating                        \n",
      "3                       5091       1  \n",
      "4                      10480       1  \n",
      "2                       2526       1  \n",
      "3                       7223       1  \n",
      "3                       5621       1  \n"
     ]
    }
   ],
   "source": [
    "testData = pd.read_csv('../data/test.csv',index_col=0)\n",
    "# testData = testData.drop(['bought_at','resale_value'],axis=1)\n",
    "print(testData.head())"
   ]
  },
  {
   "cell_type": "code",
   "execution_count": 6,
   "metadata": {},
   "outputs": [
    {
     "name": "stdout",
     "output_type": "stream",
     "text": [
      "                model_rating  bought_at  months_used  issues_rating  \\\n",
      "company_rating                                                        \n",
      "2                        5.0      11892            3            5.0   \n",
      "3                        2.0      19421            6            3.0   \n",
      "2                        3.0       6362            0            3.0   \n",
      "2                        3.0       7157            8            2.5   \n",
      "4                        3.0      18571            4            2.0   \n",
      "\n",
      "                resale_value  \n",
      "company_rating                \n",
      "2                       5586  \n",
      "3                       6138  \n",
      "2                       4205  \n",
      "2                       3348  \n",
      "4                       8867  \n"
     ]
    }
   ],
   "source": [
    "y_test = data.output\n",
    "X_test = data.drop('output', axis=1)\n",
    "print (X_test.head())"
   ]
  },
  {
   "cell_type": "code",
   "execution_count": 7,
   "metadata": {},
   "outputs": [
    {
     "name": "stdout",
     "output_type": "stream",
     "text": [
      "MSE =  0.006666666666666667\n",
      "Accuracy =  0.9933333333333333\n"
     ]
    }
   ],
   "source": [
    "pred = model.predict(X_test)\n",
    "print (\"MSE = \",mean_squared_error(y_test, pred))\n",
    "print (\"Accuracy = \",accuracy_score(y_test, pred))"
   ]
  }
 ],
 "metadata": {
  "kernelspec": {
   "display_name": "Python 3",
   "language": "python",
   "name": "python3"
  },
  "language_info": {
   "codemirror_mode": {
    "name": "ipython",
    "version": 3
   },
   "file_extension": ".py",
   "mimetype": "text/x-python",
   "name": "python",
   "nbconvert_exporter": "python",
   "pygments_lexer": "ipython3",
   "version": "3.6.4"
  }
 },
 "nbformat": 4,
 "nbformat_minor": 2
}
